{
 "cells": [
  {
   "cell_type": "code",
   "execution_count": null,
   "metadata": {},
   "outputs": [],
   "source": [
    "import matplotlib.pyplot as plt\n",
    "import pandas as pd\n",
    "import numpy as np\n",
    "import glob\n",
    "import pickle"
   ]
  },
  {
   "cell_type": "markdown",
   "metadata": {},
   "source": [
    "## Plotting RMSE loss curves"
   ]
  },
  {
   "cell_type": "code",
   "execution_count": null,
   "metadata": {},
   "outputs": [],
   "source": [
    "experiment_path = '../out/'\n",
    "\n",
    "files = glob.glob(experiment_path + '**/results.pkl')\n",
    "\n",
    "plt.figure()\n",
    "plt.title('RMSE curve')\n",
    "plt.xlabel('epochs')\n",
    "plt.ylabel('rmse trajectory error, m')\n",
    "\n",
    "for f in files:\n",
    "    results = pickle.load(open(f,'rb'))\n",
    "    # print(results)\n",
    "    if results['subseq_len'] > 1:\n",
    "        plt.plot(results['rmse_errors'], label=f\"subseq len = {results['subseq_len']}\")\n",
    "# plt.yscale('log')\n",
    "plt.legend()\n",
    "plt.grid()\n"
   ]
  },
  {
   "cell_type": "markdown",
   "metadata": {},
   "source": [
    "## Plotting curves during validation"
   ]
  },
  {
   "cell_type": "code",
   "execution_count": null,
   "metadata": {},
   "outputs": [],
   "source": [
    "\n",
    "subseq_lens = [1,6]\n",
    "\n",
    "fig,ax = plt.subplots(3,2, figsize=(12,18))\n",
    "\n",
    "for ids, s in enumerate(subseq_lens):\n",
    "    experiment_path = f'../out/graphs_seq_{s}_epochs_100'\n",
    "\n",
    "    traj_files = glob.glob(experiment_path + f'/idx_{traj_idx}_*.pkl')\n",
    "\n",
    "    report_file = experiment_path + \"/results.pkl\"\n",
    "\n",
    "    traj_files = list(traj_files)\n",
    "\n",
    "\n",
    "    report = pickle.load(open(report_file,'rb'))\n",
    "\n",
    "    epochs = report['n_actual_epochs']\n",
    "    num_val_traj = report['num_val_traj']\n",
    "\n",
    "    # assert len(traj_files) == epochs\n",
    "    for j in range(num_val_traj):\n",
    "\n",
    "        for n in range(epochs):\n",
    "            data_path = experiment_path + f\"/idx_{j}_epoch_{n}_traj.pkl\"\n",
    "            traj_data = pickle.load(open(data_path,'rb'))\n",
    "            ax[j,ids].plot(traj_data['open_loop_traj'][:,0,3],traj_data['open_loop_traj'][:,1,3], color='blue', )\n",
    "\n",
    "        ax[j,ids].set_title('Open loop integration')\n",
    "        ax[j,ids].plot(traj_data['gt_traj'][:,0],traj_data['gt_traj'][:,1], color='orange',label='gt')\n",
    "        ax[j,ids].grid()\n",
    "        # ax[j,s].xlabel('x')\n",
    "        # ax[j,s].ylabel('y')\n",
    "        ax[j,ids].axis('equal');"
   ]
  },
  {
   "cell_type": "markdown",
   "metadata": {},
   "source": [
    "## Plot ATE and RTE errors"
   ]
  },
  {
   "cell_type": "code",
   "execution_count": null,
   "metadata": {},
   "outputs": [],
   "source": [
    "traj_idx = 2\n",
    "\n",
    "\n",
    "for j in range(3):\n",
    "    traj_idx = j\n",
    "    plt.figure()\n",
    "    for subseq_len in [1,6]:\n",
    "\n",
    "        experiment_path = f'../out/graphs_seq_{subseq_len}_epochs_100'\n",
    "\n",
    "        traj_files = glob.glob(experiment_path + f'/idx_{traj_idx}_*.pkl')\n",
    "\n",
    "        report_file = experiment_path + \"/results.pkl\"\n",
    "\n",
    "        traj_files = list(traj_files)\n",
    "\n",
    "\n",
    "        report = pickle.load(open(report_file,'rb'))\n",
    "\n",
    "        epochs = report['n_actual_epochs']\n",
    "\n",
    "        # assert len(traj_files) == epochs\n",
    "\n",
    "        ate = [None]*epochs\n",
    "        rte = [None]*epochs\n",
    "\n",
    "        for n in range(epochs):\n",
    "            data_path = experiment_path + f\"/idx_{traj_idx}_epoch_{n}_traj.pkl\"\n",
    "            traj_data = pickle.load(open(data_path,'rb'))\n",
    "            ate[n] = traj_data['ate']\n",
    "            rte[n] = traj_data['rte']\n",
    "            \n",
    "\n",
    "        plt.plot(ate, label=f\"ATE, subseq_len {subseq_len}\")\n",
    "    plt.title('ATE error')\n",
    "    plt.xlabel('epoch')\n",
    "    plt.ylabel('ATE, m')\n",
    "    # plt.yscale('log')\n",
    "    plt.legend()\n",
    "    plt.grid()\n"
   ]
  },
  {
   "cell_type": "code",
   "execution_count": null,
   "metadata": {},
   "outputs": [],
   "source": [
    "traj_idx = 0\n",
    "\n",
    "for subseq_len in [1,6]:\n",
    "\n",
    "    experiment_path = f'../out/graphs_seq_{subseq_len}_epochs_100'\n",
    "\n",
    "    traj_files = glob.glob(experiment_path + f'/idx_{traj_idx}_*.pkl')\n",
    "\n",
    "    report_file = experiment_path + \"/results.pkl\"\n",
    "\n",
    "    traj_files = list(traj_files)\n",
    "\n",
    "\n",
    "    report = pickle.load(open(report_file,'rb'))\n",
    "\n",
    "    epochs = report['n_actual_epochs']\n",
    "\n",
    "    # assert len(traj_files) == epochs\n",
    "\n",
    "    ate = [None]*epochs\n",
    "    rte = [None]*epochs\n",
    "\n",
    "    for n in range(epochs):\n",
    "        data_path = experiment_path + f\"/idx_{traj_idx}_epoch_{n}_traj.pkl\"\n",
    "        traj_data = pickle.load(open(data_path,'rb'))\n",
    "        ate[n] = traj_data['ate']\n",
    "        rte[n] = traj_data['rte']\n",
    "        \n",
    "\n",
    "    plt.plot(rte, label=f\"RTE, subseq_len {subseq_len}\")\n",
    "plt.title('RTE')\n",
    "# plt.axis('equal')\n",
    "plt.legend()\n",
    "plt.grid()\n"
   ]
  },
  {
   "cell_type": "markdown",
   "metadata": {},
   "source": [
    "## Plot learning rates"
   ]
  },
  {
   "cell_type": "code",
   "execution_count": null,
   "metadata": {},
   "outputs": [],
   "source": [
    "experiment_path = '../out/'\n",
    "\n",
    "files = glob.glob(experiment_path + '**/results.pkl')\n",
    "\n",
    "plt.figure()\n",
    "plt.title('Learning rate')\n",
    "plt.xlabel('epochs')\n",
    "plt.ylabel('learning rate')\n",
    "\n",
    "for f in files:\n",
    "    results = pickle.load(open(f,'rb'))\n",
    "    # print(results)\n",
    "    # if results['subseq_len'] > 1:\n",
    "    plt.plot(results['learning_rate'], label=f\"subseq len = {results['subseq_len']}\")\n",
    "# plt.yscale('log')\n",
    "plt.legend()\n",
    "plt.grid()"
   ]
  },
  {
   "cell_type": "code",
   "execution_count": null,
   "metadata": {},
   "outputs": [],
   "source": []
  }
 ],
 "metadata": {
  "kernelspec": {
   "display_name": "theseus_env",
   "language": "python",
   "name": "python3"
  },
  "language_info": {
   "codemirror_mode": {
    "name": "ipython",
    "version": 3
   },
   "file_extension": ".py",
   "mimetype": "text/x-python",
   "name": "python",
   "nbconvert_exporter": "python",
   "pygments_lexer": "ipython3",
   "version": "3.8.1"
  }
 },
 "nbformat": 4,
 "nbformat_minor": 2
}
